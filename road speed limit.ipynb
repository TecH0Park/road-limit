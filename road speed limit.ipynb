{
 "cells": [
  {
   "cell_type": "markdown",
   "metadata": {},
   "source": [
    "## Model Training"
   ]
  },
  {
   "cell_type": "code",
   "execution_count": 31,
   "metadata": {},
   "outputs": [
    {
     "name": "stdout",
     "output_type": "stream",
     "text": [
      "Epoch 1/20\n",
      "57/57 [==============================] - 67s 1s/step - loss: 23.2537 - val_loss: 19.1585\n",
      "Epoch 2/20\n",
      "57/57 [==============================] - 63s 1s/step - loss: 17.7225 - val_loss: 20.4772\n",
      "Epoch 3/20\n",
      "57/57 [==============================] - 62s 1s/step - loss: 16.3244 - val_loss: 15.9027\n",
      "Epoch 4/20\n",
      "57/57 [==============================] - 62s 1s/step - loss: 15.6198 - val_loss: 16.7230\n",
      "Epoch 5/20\n",
      "57/57 [==============================] - 63s 1s/step - loss: 15.2945 - val_loss: 15.4365\n",
      "Epoch 6/20\n",
      "57/57 [==============================] - 67s 1s/step - loss: 14.5711 - val_loss: 16.8733\n",
      "Epoch 7/20\n",
      "57/57 [==============================] - 65s 1s/step - loss: 14.2503 - val_loss: 20.4673\n",
      "Epoch 8/20\n",
      "57/57 [==============================] - 63s 1s/step - loss: 13.6220 - val_loss: 15.9261\n",
      "Epoch 9/20\n",
      "57/57 [==============================] - 66s 1s/step - loss: 13.2321 - val_loss: 16.8297\n",
      "Epoch 10/20\n",
      "57/57 [==============================] - 65s 1s/step - loss: 11.9009 - val_loss: 15.4177\n",
      "Epoch 11/20\n",
      "57/57 [==============================] - 64s 1s/step - loss: 11.4427 - val_loss: 16.1349\n",
      "Epoch 12/20\n",
      "57/57 [==============================] - 63s 1s/step - loss: 10.7418 - val_loss: 16.7736\n",
      "Epoch 13/20\n",
      "57/57 [==============================] - 62s 1s/step - loss: 9.6648 - val_loss: 15.4951\n",
      "Epoch 14/20\n",
      "57/57 [==============================] - 62s 1s/step - loss: 9.1612 - val_loss: 16.3523\n",
      "Epoch 15/20\n",
      "57/57 [==============================] - 63s 1s/step - loss: 8.4154 - val_loss: 15.7722\n",
      "1/1 [==============================] - 0s 245ms/step - loss: 14.1272\n",
      "Test loss: 14.127249717712402\n"
     ]
    },
    {
     "name": "stderr",
     "output_type": "stream",
     "text": [
      "c:\\Users\\AMAAN\\AppData\\Local\\Programs\\Python\\Python311\\Lib\\site-packages\\keras\\src\\engine\\training.py:3000: UserWarning: You are saving your model as an HDF5 file via `model.save()`. This file format is considered legacy. We recommend using instead the native Keras format, e.g. `model.save('my_model.keras')`.\n",
      "  saving_api.save_model(\n"
     ]
    },
    {
     "name": "stdout",
     "output_type": "stream",
     "text": [
      "1/1 [==============================] - 0s 363ms/step\n",
      "Mean Squared Error (MSE): 411.33694877835796\n"
     ]
    }
   ],
   "source": [
    "import numpy as np\n",
    "import tensorflow as tf\n",
    "from tensorflow import keras\n",
    "from tensorflow.keras import layers\n",
    "from sklearn.model_selection import train_test_split\n",
    "import cv2\n",
    "import os\n",
    "\n",
    "dataset_dir = \"D:/7th/ml/0_major_project/dataset_new\"\n",
    "\n",
    "X = []\n",
    "y = []\n",
    "speed_categories = {}  \n",
    "\n",
    "for filename in os.listdir(dataset_dir):\n",
    "    if filename.endswith(\".jpg\"):\n",
    "        image_path = os.path.join(dataset_dir, filename)\n",
    "        image = cv2.imread(image_path)\n",
    "        image = cv2.resize(image, (224, 224))  \n",
    "        image = image / 255.0  \n",
    "\n",
    "        speed_label = int(filename.split(\"_\")[1].split(\".\")[0])\n",
    "\n",
    "        if speed_label in speed_categories:\n",
    "            speed_categories[speed_label] += 1\n",
    "        else:\n",
    "            speed_categories[speed_label] = 1\n",
    "\n",
    "        X.append(image)\n",
    "        y.append(speed_label)\n",
    "\n",
    "X = np.array(X)\n",
    "y = np.array(y)\n",
    "\n",
    "X_train, X_temp, y_train, y_temp = train_test_split(X, y, test_size=0.1, random_state=42)\n",
    "X_val, X_test, y_val, y_test = train_test_split(X_temp, y_temp, test_size=0.5, random_state=42)\n",
    "\n",
    "model = keras.Sequential([\n",
    "    layers.Conv2D(32, (3, 3), activation='relu', input_shape=(224, 224, 3)),\n",
    "    layers.MaxPooling2D((2, 2)),\n",
    "    layers.Conv2D(64, (3, 3), activation='relu'),\n",
    "    layers.MaxPooling2D((2, 2)),\n",
    "    layers.Flatten(),\n",
    "    layers.Dense(256, activation='relu'),\n",
    "    layers.Dropout(0.5),  \n",
    "    layers.Dense(1, activation='linear')  # Output layer for safety speed prediction (regression)\n",
    "])\n",
    "\n",
    "# Compile the model\n",
    "model.compile(optimizer=keras.optimizers.Adam(learning_rate=0.001), loss='mean_absolute_error')  \n",
    "# Implement early stopping\n",
    "early_stopping = keras.callbacks.EarlyStopping(monitor='val_loss', patience=5, restore_best_weights=True)\n",
    "\n",
    "model.fit(X_train, y_train, epochs=20, batch_size=10, validation_data=(X_val, y_val),  callbacks=[early_stopping])\n",
    "\n",
    "loss = model.evaluate(X_test, y_test)\n",
    "print(f\"Test loss: {loss}\")\n",
    "\n",
    "model.save(\"safety_speed_model.h5\")\n",
    "from sklearn.metrics import mean_squared_error\n",
    "\n",
    "predictions = model.predict(X_test)\n",
    "\n",
    "mse = mean_squared_error(y_test, predictions)\n",
    "print(f\"Mean Squared Error (MSE): {mse}\")"
   ]
  },
  {
   "cell_type": "markdown",
   "metadata": {},
   "source": [
    "## Category"
   ]
  },
  {
   "cell_type": "code",
   "execution_count": 33,
   "metadata": {},
   "outputs": [
    {
     "name": "stdout",
     "output_type": "stream",
     "text": [
      "Speed 0: 47 images\n",
      "Speed 10: 115 images\n",
      "Speed 20: 117 images\n",
      "Speed 40: 111 images\n",
      "Speed 5: 114 images\n",
      "Speed 80: 126 images\n",
      "CSV file 'dataset.csv' has been created.\n"
     ]
    }
   ],
   "source": [
    "import pandas as pd\n",
    "\n",
    "# Print the count of images for each speed category\n",
    "for speed, count in speed_categories.items():\n",
    "    print(f\"Speed {speed}: {count} images\")\n",
    "\n",
    "data = pd.DataFrame({'Image_Path': [f'image_{i}.jpg' for i in range(len(X))], 'Speed_Label': y})\n",
    "\n",
    "csv_filename = 'dataset.csv'\n",
    "data.to_csv(csv_filename, index=False)\n",
    "print(f\"CSV file '{csv_filename}' has been created.\")\n"
   ]
  },
  {
   "cell_type": "code",
   "execution_count": 42,
   "metadata": {},
   "outputs": [
    {
     "name": "stdout",
     "output_type": "stream",
     "text": [
      "(630, 25089)\n"
     ]
    }
   ],
   "source": [
    "print(data.shape)"
   ]
  },
  {
   "cell_type": "markdown",
   "metadata": {},
   "source": [
    "## Split \n",
    "## Train = 90%\n",
    "## Validation = 5%\n",
    "## Test = 5%"
   ]
  },
  {
   "cell_type": "code",
   "execution_count": 43,
   "metadata": {},
   "outputs": [
    {
     "name": "stdout",
     "output_type": "stream",
     "text": [
      "(630, 224, 224, 3)\n",
      "[ 0  0  0  0  0  0  0  0  0  0  0  0  0  0  0  0  0  0  0  0  0  0  0  0\n",
      "  0  0  0  0  0  0  0  0  0  0  0  0  0  0  0  0  0  0  0  0  0  0  0 10\n",
      " 10 10 10 10 10 10 10 10 10 10 10 10 10 10 10 10 10 10 10 10 10 10 10 10\n",
      " 10 10 10 10 10 10 10 10 10 10 10 10 10 10 10 10 10 10 10 10 10 10 10 10\n",
      " 10 10 10 10 10 10 10 10 10 10 10 10 10 10 10 10 10 10 10 10 10 10 10 10\n",
      " 10 10 10 10 10 10 10 10 10 10 10 10 10 10 10 10 10 10 10 10 10 10 10 10\n",
      " 10 10 10 10 10 10 10 10 10 10 10 10 10 10 10 10 10 10 20 20 20 20 20 20\n",
      " 20 20 20 20 20 20 20 20 20 20 20 20 20 20 20 20 20 20 20 20 20 20 20 20\n",
      " 20 20 20 20 20 20 20 20 20 20 20 20 20 20 20 20 20 20 20 20 20 20 20 20\n",
      " 20 20 20 20 20 20 20 20 20 20 20 20 20 20 20 20 20 20 20 20 20 20 20 20\n",
      " 20 20 20 20 20 20 20 20 20 20 20 20 20 20 20 20 20 20 20 20 20 20 20 20\n",
      " 20 20 20 20 20 20 20 20 20 20 20 20 20 20 20 40 40 40 40 40 40 40 40 40\n",
      " 40 40 40 40 40 40 40 40 40 40 40 40 40 40 40 40 40 40 40 40 40 40 40 40\n",
      " 40 40 40 40 40 40 40 40 40 40 40 40 40 40 40 40 40 40 40 40 40 40 40 40\n",
      " 40 40 40 40 40 40 40 40 40 40 40 40 40 40 40 40 40 40 40 40 40 40 40 40\n",
      " 40 40 40 40 40 40 40 40 40 40 40 40 40 40 40 40 40 40 40 40 40 40 40 40\n",
      " 40 40 40 40 40 40  5  5  5  5  5  5  5  5  5  5  5  5  5  5  5  5  5  5\n",
      "  5  5  5  5  5  5  5  5  5  5  5  5  5  5  5  5  5  5  5  5  5  5  5  5\n",
      "  5  5  5  5  5  5  5  5  5  5  5  5  5  5  5  5  5  5  5  5  5  5  5  5\n",
      "  5  5  5  5  5  5  5  5  5  5  5  5  5  5  5  5  5  5  5  5  5  5  5  5\n",
      "  5  5  5  5  5  5  5  5  5  5  5  5  5  5  5  5  5  5  5  5  5  5  5  5\n",
      " 80 80 80 80 80 80 80 80 80 80 80 80 80 80 80 80 80 80 80 80 80 80 80 80\n",
      " 80 80 80 80 80 80 80 80 80 80 80 80 80 80 80 80 80 80 80 80 80 80 80 80\n",
      " 80 80 80 80 80 80 80 80 80 80 80 80 80 80 80 80 80 80 80 80 80 80 80 80\n",
      " 80 80 80 80 80 80 80 80 80 80 80 80 80 80 80 80 80 80 80 80 80 80 80 80\n",
      " 80 80 80 80 80 80 80 80 80 80 80 80 80 80 80 80 80 80 80 80 80 80 80 80\n",
      " 80 80 80 80 80 80]\n",
      "(630,)\n",
      "567\n",
      "[ 5  5  5 40 80  5  0 10 10 80 20 10 40 10 10 40 20  5 10 80 80 40 80  5\n",
      " 80 20  0  5 20 20 20  0]\n",
      "32\n"
     ]
    }
   ],
   "source": [
    "print(X.shape)\n",
    "print(y)\n",
    "print(y.shape)\n",
    "print(y_train.size)\n",
    "print(y_test)\n",
    "print(y_test.size)"
   ]
  },
  {
   "cell_type": "markdown",
   "metadata": {},
   "source": [
    "## Confusion Matrix "
   ]
  },
  {
   "cell_type": "code",
   "execution_count": 45,
   "metadata": {},
   "outputs": [
    {
     "name": "stdout",
     "output_type": "stream",
     "text": [
      "1/1 [==============================] - 0s 340ms/step\n",
      "Mean Squared Error (MSE): 411.33694877835796\n",
      "[[1 0 0 2 0 0]\n",
      " [2 4 1 0 0 0]\n",
      " [2 2 2 0 0 0]\n",
      " [1 2 0 3 0 0]\n",
      " [0 0 0 2 2 0]\n",
      " [0 0 0 4 2 0]]\n"
     ]
    },
    {
     "data": {
      "image/png": "[encoded data removed]",
      "text/plain": [
       "<Figure size 600x600 with 2 Axes>"
      ]
     },
     "metadata": {},
     "output_type": "display_data"
    }
   ],
   "source": [
    "import numpy as np\n",
    "import tensorflow as tf\n",
    "from tensorflow import keras\n",
    "import matplotlib.pyplot as plt\n",
    "from sklearn.metrics import mean_squared_error, confusion_matrix\n",
    "import seaborn as sns\n",
    "\n",
    "model = keras.models.load_model(\"safety_speed_model.h5\")\n",
    "\n",
    "predictions = model.predict(X_test)\n",
    "\n",
    "mse = mean_squared_error(y_test, predictions)\n",
    "print(f\"Mean Squared Error (MSE): {mse}\")\n",
    "\n",
    "speed_labels = [ 0, 5, 10, 20, 40, 80]\n",
    "\n",
    "y_true_categories = np.digitize(y_test, bins=speed_labels)\n",
    "y_pred_categories = np.digitize(predictions, bins=speed_labels)\n",
    "\n",
    "confusion_mat = confusion_matrix(y_true_categories, y_pred_categories)\n",
    "print(confusion_mat)\n",
    "\n",
    "plt.figure(figsize=(6, 6))\n",
    "sns.heatmap(confusion_mat, annot=True, fmt=\"d\", cmap=\"Blues\", xticklabels=speed_labels, yticklabels=speed_labels)\n",
    "plt.xlabel('Predicted')\n",
    "plt.ylabel('True')\n",
    "plt.title('Confusion Matrix')\n",
    "plt.show()\n",
    "\n",
    "\n"
   ]
  },
  {
   "cell_type": "markdown",
   "metadata": {},
   "source": [
    "## Testing"
   ]
  },
  {
   "cell_type": "code",
   "execution_count": 23,
   "metadata": {},
   "outputs": [
    {
     "name": "stdout",
     "output_type": "stream",
     "text": [
      "1/1 [==============================] - 0s 373ms/step\n",
      "Predicted Safety Speed: 22.796255111694336\n",
      "22 Km/h\n",
      "safe speed : 20 Km/h - 40 Km/h\n",
      "good road\n"
     ]
    }
   ],
   "source": [
    "import cv2\n",
    "import numpy as np\n",
    "from tensorflow.keras.models import load_model\n",
    "\n",
    "model = load_model(\"safety_speed_model.h5\")\n",
    "\n",
    "#test_image_path = \"D:/7th/ml/0_major_project/road/potholes/23.jpg\"\n",
    "#test_image_path = \"D:/7th/ml/0_major_project/road/normal/156.jpg\"\n",
    "#test_image_path = \"D:/7th/ml/0_major_project/dataset_new/image_5_1001.jpg\"\n",
    "#test_image_path = \"D:/7th/ml/0_major_project/dataset_new/image_10_39.jpg\"\n",
    "test_image_path = \"D:/7th/ml/0_major_project/testing_dataset/Test_image_55.jpg\"\n",
    "test_image = cv2.imread(test_image_path)\n",
    "test_image = cv2.resize(test_image, (224, 224))  \n",
    "test_image = test_image / 255.0  \n",
    "\n",
    "# Reshape the test image to match the model's input shape\n",
    "test_image = np.expand_dims(test_image, axis=0)\n",
    "\n",
    "speed_prediction = model.predict(test_image)[0][0]\n",
    "\n",
    "print(f\"Predicted Safety Speed: {speed_prediction}\")\n",
    "print(int(speed_prediction),\"Km/h\")\n",
    "if speed_prediction < 5 :\n",
    "    print(\"safe speed Below 5 Km/h\")\n",
    "if speed_prediction > 5 and speed_prediction < 10:\n",
    "    print(\"safe speed : 5 Km/h - 10 Km/h\")\n",
    "if speed_prediction > 10 and speed_prediction < 20:\n",
    "    print(\"safe speed : 10 Km/h - 20 Km/h\")\n",
    "if speed_prediction > 20 and speed_prediction < 40:\n",
    "    print(\"safe speed : 20 Km/h - 40 Km/h\")\n",
    "if speed_prediction > 40 and speed_prediction < 80:\n",
    "    print(\"safe speed : 40 Km/h - 80 Km/h\")\n",
    "if speed_prediction > 80 :\n",
    "    print(\"safe speed Above 80 Km/h\")\n",
    "\n",
    "if speed_prediction>20 :\n",
    "    print(\"good road\")\n",
    "else :\n",
    "    print(\"bad road\")\n"
   ]
  },
  {
   "cell_type": "markdown",
   "metadata": {},
   "source": [
    "## CREATING DOC"
   ]
  },
  {
   "cell_type": "code",
   "execution_count": 15,
   "metadata": {},
   "outputs": [
    {
     "name": "stdout",
     "output_type": "stream",
     "text": [
      "1/1 [==============================] - 0s 137ms/step\n",
      "1/1 [==============================] - 0s 60ms/step\n",
      "1/1 [==============================] - 0s 58ms/step\n",
      "1/1 [==============================] - 0s 59ms/step\n",
      "1/1 [==============================] - 0s 59ms/step\n",
      "1/1 [==============================] - 0s 69ms/step\n",
      "1/1 [==============================] - 0s 67ms/step\n",
      "1/1 [==============================] - 0s 61ms/step\n",
      "1/1 [==============================] - 0s 66ms/step\n",
      "1/1 [==============================] - 0s 66ms/step\n",
      "1/1 [==============================] - 0s 60ms/step\n",
      "1/1 [==============================] - 0s 61ms/step\n",
      "1/1 [==============================] - 0s 63ms/step\n",
      "1/1 [==============================] - 0s 60ms/step\n",
      "1/1 [==============================] - 0s 56ms/step\n",
      "1/1 [==============================] - 0s 58ms/step\n",
      "1/1 [==============================] - 0s 57ms/step\n",
      "1/1 [==============================] - 0s 57ms/step\n",
      "1/1 [==============================] - 0s 55ms/step\n",
      "1/1 [==============================] - 0s 60ms/step\n",
      "1/1 [==============================] - 0s 59ms/step\n",
      "1/1 [==============================] - 0s 57ms/step\n",
      "1/1 [==============================] - 0s 57ms/step\n",
      "1/1 [==============================] - 0s 60ms/step\n",
      "1/1 [==============================] - 0s 57ms/step\n",
      "1/1 [==============================] - 0s 74ms/step\n",
      "1/1 [==============================] - 0s 58ms/step\n",
      "1/1 [==============================] - 0s 72ms/step\n",
      "1/1 [==============================] - 0s 59ms/step\n",
      "1/1 [==============================] - 0s 66ms/step\n",
      "1/1 [==============================] - 0s 58ms/step\n",
      "1/1 [==============================] - 0s 65ms/step\n",
      "1/1 [==============================] - 0s 56ms/step\n",
      "1/1 [==============================] - 0s 57ms/step\n",
      "1/1 [==============================] - 0s 70ms/step\n",
      "1/1 [==============================] - 0s 59ms/step\n",
      "1/1 [==============================] - 0s 54ms/step\n",
      "1/1 [==============================] - 0s 73ms/step\n",
      "1/1 [==============================] - 0s 68ms/step\n",
      "1/1 [==============================] - 0s 80ms/step\n",
      "1/1 [==============================] - 0s 72ms/step\n",
      "1/1 [==============================] - 0s 58ms/step\n",
      "1/1 [==============================] - 0s 64ms/step\n",
      "1/1 [==============================] - 0s 65ms/step\n",
      "1/1 [==============================] - 0s 57ms/step\n",
      "1/1 [==============================] - 0s 58ms/step\n",
      "1/1 [==============================] - 0s 67ms/step\n",
      "1/1 [==============================] - 0s 57ms/step\n",
      "1/1 [==============================] - 0s 62ms/step\n",
      "1/1 [==============================] - 0s 61ms/step\n",
      "1/1 [==============================] - 0s 61ms/step\n",
      "1/1 [==============================] - 0s 58ms/step\n",
      "1/1 [==============================] - 0s 56ms/step\n",
      "1/1 [==============================] - 0s 60ms/step\n",
      "1/1 [==============================] - 0s 60ms/step\n",
      "1/1 [==============================] - 0s 57ms/step\n",
      "1/1 [==============================] - 0s 56ms/step\n",
      "1/1 [==============================] - 0s 61ms/step\n",
      "1/1 [==============================] - 0s 57ms/step\n",
      "1/1 [==============================] - 0s 59ms/step\n",
      "1/1 [==============================] - 0s 59ms/step\n"
     ]
    }
   ],
   "source": [
    "import cv2\n",
    "import numpy as np\n",
    "from tensorflow.keras.models import load_model\n",
    "import os\n",
    "from docx import Document\n",
    "from docx.shared import Inches\n",
    "from docx.enum.text import WD_PARAGRAPH_ALIGNMENT\n",
    "\n",
    "# Load the model\n",
    "model = load_model(\"safety_speed_model.h5\")\n",
    "input_folder = \"D:/7th/ml/0_major_project/testing_dataset/\"\n",
    "output_docx = \"output.docx\"\n",
    "\n",
    "doc = Document()\n",
    "\n",
    "categories = {\n",
    "    \"Below 5 Km/h\": [],\n",
    "    \"5 Km/h - 10 Km/h\": [],\n",
    "    \"10 Km/h - 20 Km/h\": [],\n",
    "    \"20 Km/h - 40 Km/h\": [],\n",
    "    \"40 Km/h - 80 Km/h\": [],\n",
    "    \"Above 80 Km/h\": []\n",
    "}\n",
    "\n",
    "for filename in os.listdir(input_folder):\n",
    "    if filename.lower().endswith((\".jpg\", \".jpeg\", \".png\")):\n",
    "        test_image_path = os.path.join(input_folder, filename)\n",
    "        test_image = cv2.imread(test_image_path)\n",
    "        test_image = cv2.resize(test_image, (224, 224))\n",
    "        test_image = test_image / 255.0\n",
    "        test_image = np.expand_dims(test_image, axis=0)\n",
    "        \n",
    "        speed_prediction = model.predict(test_image)[0][0]\n",
    "        \n",
    "        if speed_prediction < 5:\n",
    "            categories[\"Below 5 Km/h\"].append((filename, test_image_path, speed_prediction))\n",
    "        elif 5 <= speed_prediction < 10:\n",
    "            categories[\"5 Km/h - 10 Km/h\"].append((filename, test_image_path, speed_prediction))\n",
    "        elif 10 <= speed_prediction < 20:\n",
    "            categories[\"10 Km/h - 20 Km/h\"].append((filename, test_image_path, speed_prediction))\n",
    "        elif 20 <= speed_prediction < 40:\n",
    "            categories[\"20 Km/h - 40 Km/h\"].append((filename, test_image_path, speed_prediction))\n",
    "        elif 40 <= speed_prediction < 80:\n",
    "            categories[\"40 Km/h - 80 Km/h\"].append((filename, test_image_path, speed_prediction))\n",
    "        else:\n",
    "            categories[\"Above 80 Km/h\"].append((filename, test_image_path, speed_prediction))\n",
    "\n",
    "# Sort images within each category by speed prediction\n",
    "for category, image_info in categories.items():\n",
    "    if image_info:\n",
    "        doc.add_heading(f\"Images in the Category: {category}\", level=1)\n",
    "        for filename, test_image_path, speed_prediction in sorted(image_info, key=lambda x: x[2]):\n",
    "            paragraph = doc.add_paragraph(f\"Image: {filename}\")\n",
    "            paragraph.alignment = WD_PARAGRAPH_ALIGNMENT.CENTER\n",
    "            doc.add_picture(test_image_path, height=Inches(2) ,width=Inches(4))\n",
    "            doc.add_paragraph(f\"Predicted Safety Speed: {speed_prediction} Km/h\", style='List Bullet')\n",
    "            if speed_prediction > 13:\n",
    "                doc.add_paragraph(\"Good road\")\n",
    "            else:\n",
    "                doc.add_paragraph(\"Poor road\")\n",
    "doc.save(output_docx)\n"
   ]
  }
 ],
 "metadata": {
  "kernelspec": {
   "display_name": "Python 3",
   "language": "python",
   "name": "python3"
  },
  "language_info": {
   "codemirror_mode": {
    "name": "ipython",
    "version": 3
   },
   "file_extension": ".py",
   "mimetype": "text/x-python",
   "name": "python",
   "nbconvert_exporter": "python",
   "pygments_lexer": "ipython3",
   "version": "3.11.3"
  }
 },
 "nbformat": 4,
 "nbformat_minor": 2
}
